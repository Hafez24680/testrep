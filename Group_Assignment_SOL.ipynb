{
 "cells": [
  {
   "cell_type": "markdown",
   "id": "716305f9-6d73-428c-896d-9100ce7fac35",
   "metadata": {},
   "source": [
    "# Solution of Group Assignment "
   ]
  },
  {
   "cell_type": "markdown",
   "id": "3e516377-9f34-41a7-80bd-fdf77c73a5bc",
   "metadata": {},
   "source": [
    "## Question 1:"
   ]
  },
  {
   "cell_type": "code",
   "execution_count": 1,
   "id": "ec2828ed-dea7-467a-a7cd-00d3da72e7df",
   "metadata": {},
   "outputs": [],
   "source": [
    "from sympy import log,sqrt, sec, tan,cos, sin, asin, symbols, diff, integrate, solve,exp,series,limit,oo,sinh,pi,expand,simplify"
   ]
  },
  {
   "cell_type": "code",
   "execution_count": 2,
   "id": "662e60c3-8afd-4742-b511-b2a0bf7cd00d",
   "metadata": {},
   "outputs": [],
   "source": [
    "x,y,z,w = symbols('x y z w')"
   ]
  },
  {
   "cell_type": "code",
   "execution_count": 3,
   "id": "09efbd56-2e3f-4970-a2e6-a4b3e0cae2f2",
   "metadata": {},
   "outputs": [
    {
     "name": "stdout",
     "output_type": "stream",
     "text": [
      "first derivative is :  -24*x/(3*x**2 + log(2))**2\n",
      "second derivative is:   288*x**2/(3*x**2 + log(2))**3 - 24/(3*x**2 + log(2))**2\n"
     ]
    }
   ],
   "source": [
    "# a\n",
    "a1=diff(4/(3*x**2+log(2)),x) # first derviative\n",
    "a2= diff(a1, x)              # Second derivative\n",
    "print(\"first derivative is : \", a1)\n",
    "print(\"second derivative is:  \", a2)"
   ]
  },
  {
   "cell_type": "code",
   "execution_count": 4,
   "id": "fefc3614-712d-4168-b85e-c0f24d833807",
   "metadata": {},
   "outputs": [
    {
     "name": "stdout",
     "output_type": "stream",
     "text": [
      "first derivative is :  -7/(2*sqrt(5 - 7*x))\n",
      "second derivative is:   -49/(4*(5 - 7*x)**(3/2))\n"
     ]
    }
   ],
   "source": [
    "# b\n",
    "b1=diff(sqrt(5-7*x),x) # first derviative\n",
    "b2= diff(b1, x)              # Second derivative\n",
    "print(\"first derivative is : \", b1)\n",
    "print(\"second derivative is:  \", b2)"
   ]
  },
  {
   "cell_type": "code",
   "execution_count": 5,
   "id": "dfbd341a-8b68-4a89-9741-6f1bc5efac65",
   "metadata": {},
   "outputs": [
    {
     "name": "stdout",
     "output_type": "stream",
     "text": [
      "first derivative is :  (4.66666666666667*z - 1.33333333333333)/(7*z**2 - 4*z + 3)**0.666666666666667\n",
      "second derivative is:   (2.66666666666667 - 9.33333333333333*z)*(4.66666666666667*z - 1.33333333333333)/(7*z**2 - 4*z + 3)**1.66666666666667 + 4.66666666666667/(7*z**2 - 4*z + 3)**0.666666666666667\n"
     ]
    }
   ],
   "source": [
    "# c\n",
    "c1=diff((7*z**2-4*z+3)**(1/3),z) # first derviative\n",
    "c2= diff(c1, z)              # Second derivative\n",
    "print(\"first derivative is : \", c1)\n",
    "print(\"second derivative is:  \", c2)"
   ]
  },
  {
   "cell_type": "code",
   "execution_count": 6,
   "id": "6271f285-d36c-4d0b-af15-27d17b04d50c",
   "metadata": {},
   "outputs": [
    {
     "name": "stdout",
     "output_type": "stream",
     "text": [
      "first derivative is :  (-4*y - 4/y**3)/(y**2 - 1/y**2)**3\n",
      "second derivative is:   (-4 + 12/y**4)/(y**2 - 1/y**2)**3 + (-6*y - 6/y**3)*(-4*y - 4/y**3)/(y**2 - 1/y**2)**4\n"
     ]
    }
   ],
   "source": [
    "# d\n",
    "d1=diff((y**2-y**(-2))**(-2),y) # first derviative\n",
    "d2= diff(d1, y)              # Second derivative\n",
    "print(\"first derivative is : \", d1)\n",
    "print(\"second derivative is:  \", d2)"
   ]
  },
  {
   "cell_type": "code",
   "execution_count": 7,
   "id": "0f84daed-3955-4ccf-a3de-f7473b388529",
   "metadata": {},
   "outputs": [
    {
     "name": "stdout",
     "output_type": "stream",
     "text": [
      "first derivative is :  16*x*sin(4*x**2)*cos(4*x**2)\n",
      "second derivative is:   -128*x**2*sin(4*x**2)**2 + 128*x**2*cos(4*x**2)**2 + 16*sin(4*x**2)*cos(4*x**2)\n"
     ]
    }
   ],
   "source": [
    "# e\n",
    "e1=diff((sin(4*x**2))**2,x) # first derviative\n",
    "e2= diff(e1, x)              # Second derivative\n",
    "print(\"first derivative is : \", e1)\n",
    "print(\"second derivative is:  \", e2)"
   ]
  },
  {
   "cell_type": "code",
   "execution_count": 8,
   "id": "8672f19b-c029-46a3-8242-25e91df305e8",
   "metadata": {},
   "outputs": [
    {
     "name": "stdout",
     "output_type": "stream",
     "text": [
      "first derivative is :  (tan(x) + sec(x))**2*(3*tan(x)**2 + 3*tan(x)*sec(x) + 3)\n",
      "second derivative is:   (tan(x) + sec(x))**2*(3*(tan(x)**2 + 1)*sec(x) + 3*(2*tan(x)**2 + 2)*tan(x) + 3*tan(x)**2*sec(x)) + (tan(x) + sec(x))*(2*tan(x)**2 + 2*tan(x)*sec(x) + 2)*(3*tan(x)**2 + 3*tan(x)*sec(x) + 3)\n"
     ]
    }
   ],
   "source": [
    "# f\n",
    "f1=diff((sec(x)+tan(x))**3,x) # first derviative\n",
    "f2= diff(f1, x)              # Second derivative\n",
    "print(\"first derivative is : \", f1)\n",
    "print(\"second derivative is:  \", f2)"
   ]
  },
  {
   "cell_type": "code",
   "execution_count": 9,
   "id": "6680c471-1964-4ec7-a0d8-39ecf4508c3f",
   "metadata": {},
   "outputs": [
    {
     "name": "stdout",
     "output_type": "stream",
     "text": [
      "first derivative is :  0\n",
      "second derivative is:   0\n"
     ]
    }
   ],
   "source": [
    "# g\n",
    "g1=diff(asin(sqrt(3)/2),x) # first derviative\n",
    "g2= diff(g1, x)              # Second derivative\n",
    "print(\"first derivative is : \", g1)\n",
    "print(\"second derivative is:  \", g2)"
   ]
  },
  {
   "cell_type": "markdown",
   "id": "6d078db6-187a-4d4b-a1a5-9459e442b7e9",
   "metadata": {},
   "source": [
    "# Question 2:"
   ]
  },
  {
   "cell_type": "code",
   "execution_count": 10,
   "id": "a2640f9b-d2c3-405c-a630-c6189b638fa9",
   "metadata": {},
   "outputs": [
    {
     "name": "stdout",
     "output_type": "stream",
     "text": [
      "The roots od the equation are:   [-3/4 - sqrt(-2/(3*(-9/16 + sqrt(7329)/144)**(1/3)) + 2*(-9/16 + sqrt(7329)/144)**(1/3) + 9/4)/2 + sqrt(-2*(-9/16 + sqrt(7329)/144)**(1/3) + 2/(3*(-9/16 + sqrt(7329)/144)**(1/3)) + 9/2 + 27/(4*sqrt(-2/(3*(-9/16 + sqrt(7329)/144)**(1/3)) + 2*(-9/16 + sqrt(7329)/144)**(1/3) + 9/4)))/2, -3/4 + sqrt(-2/(3*(-9/16 + sqrt(7329)/144)**(1/3)) + 2*(-9/16 + sqrt(7329)/144)**(1/3) + 9/4)/2 - sqrt(-27/(4*sqrt(-2/(3*(-9/16 + sqrt(7329)/144)**(1/3)) + 2*(-9/16 + sqrt(7329)/144)**(1/3) + 9/4)) - 2*(-9/16 + sqrt(7329)/144)**(1/3) + 2/(3*(-9/16 + sqrt(7329)/144)**(1/3)) + 9/2)/2, -3/4 + sqrt(-2/(3*(-9/16 + sqrt(7329)/144)**(1/3)) + 2*(-9/16 + sqrt(7329)/144)**(1/3) + 9/4)/2 + sqrt(-27/(4*sqrt(-2/(3*(-9/16 + sqrt(7329)/144)**(1/3)) + 2*(-9/16 + sqrt(7329)/144)**(1/3) + 9/4)) - 2*(-9/16 + sqrt(7329)/144)**(1/3) + 2/(3*(-9/16 + sqrt(7329)/144)**(1/3)) + 9/2)/2, -sqrt(-2*(-9/16 + sqrt(7329)/144)**(1/3) + 2/(3*(-9/16 + sqrt(7329)/144)**(1/3)) + 9/2 + 27/(4*sqrt(-2/(3*(-9/16 + sqrt(7329)/144)**(1/3)) + 2*(-9/16 + sqrt(7329)/144)**(1/3) + 9/4)))/2 - 3/4 - sqrt(-2/(3*(-9/16 + sqrt(7329)/144)**(1/3)) + 2*(-9/16 + sqrt(7329)/144)**(1/3) + 9/4)/2]\n"
     ]
    }
   ],
   "source": [
    "# a\n",
    "Eq1=x**4+3*x**3-1\n",
    "roots=solve(Eq1,x)\n",
    "print('The roots od the equation are:  ', roots)"
   ]
  },
  {
   "cell_type": "code",
   "execution_count": 11,
   "id": "6592ab89-a9b3-4f66-bc00-45658d3b750b",
   "metadata": {},
   "outputs": [
    {
     "name": "stdout",
     "output_type": "stream",
     "text": [
      "The roots od the equation are:   [0, -1/4 - sqrt(-1/(6*(-11/16 + sqrt(9813)/144)**(1/3)) + 2*(-11/16 + sqrt(9813)/144)**(1/3) + 9/4)/2 + sqrt(-2*(-11/16 + sqrt(9813)/144)**(1/3) + 1/(6*(-11/16 + sqrt(9813)/144)**(1/3)) + 9/2 + 13/(4*sqrt(-1/(6*(-11/16 + sqrt(9813)/144)**(1/3)) + 2*(-11/16 + sqrt(9813)/144)**(1/3) + 9/4)))/2, -1/4 + sqrt(-1/(6*(-11/16 + sqrt(9813)/144)**(1/3)) + 2*(-11/16 + sqrt(9813)/144)**(1/3) + 9/4)/2 - sqrt(-13/(4*sqrt(-1/(6*(-11/16 + sqrt(9813)/144)**(1/3)) + 2*(-11/16 + sqrt(9813)/144)**(1/3) + 9/4)) - 2*(-11/16 + sqrt(9813)/144)**(1/3) + 1/(6*(-11/16 + sqrt(9813)/144)**(1/3)) + 9/2)/2, -1/4 + sqrt(-1/(6*(-11/16 + sqrt(9813)/144)**(1/3)) + 2*(-11/16 + sqrt(9813)/144)**(1/3) + 9/4)/2 + sqrt(-13/(4*sqrt(-1/(6*(-11/16 + sqrt(9813)/144)**(1/3)) + 2*(-11/16 + sqrt(9813)/144)**(1/3) + 9/4)) - 2*(-11/16 + sqrt(9813)/144)**(1/3) + 1/(6*(-11/16 + sqrt(9813)/144)**(1/3)) + 9/2)/2, -sqrt(-2*(-11/16 + sqrt(9813)/144)**(1/3) + 1/(6*(-11/16 + sqrt(9813)/144)**(1/3)) + 9/2 + 13/(4*sqrt(-1/(6*(-11/16 + sqrt(9813)/144)**(1/3)) + 2*(-11/16 + sqrt(9813)/144)**(1/3) + 9/4)))/2 - 1/4 - sqrt(-1/(6*(-11/16 + sqrt(9813)/144)**(1/3)) + 2*(-11/16 + sqrt(9813)/144)**(1/3) + 9/4)/2]\n"
     ]
    }
   ],
   "source": [
    "# b\n",
    "Eq2=w**5+w**4-3*w**3-w\n",
    "roots2=solve(Eq2,w)\n",
    "print('The roots od the equation are:  ', roots2)"
   ]
  },
  {
   "cell_type": "markdown",
   "id": "e7823cb9-f6d6-4a17-ad1e-85c4532262a0",
   "metadata": {},
   "source": [
    "## Question 3: "
   ]
  },
  {
   "cell_type": "code",
   "execution_count": 12,
   "id": "86b358a4-b88e-4d53-a7b3-a3ada4ba46e3",
   "metadata": {},
   "outputs": [
    {
     "name": "stdout",
     "output_type": "stream",
     "text": [
      "The value of integration is :  exp(x)*sin(x)/2 - exp(x)*cos(x)/2\n"
     ]
    }
   ],
   "source": [
    "#a \n",
    "e1=integrate(exp(x)*sin(x),x)\n",
    "print(\"The value of integration is : \", e1)"
   ]
  },
  {
   "cell_type": "code",
   "execution_count": 13,
   "id": "22c21807-01eb-42f8-875f-ed700a4ffa4c",
   "metadata": {},
   "outputs": [
    {
     "name": "stdout",
     "output_type": "stream",
     "text": [
      "The value of integration is :  x*log(x) - x\n"
     ]
    }
   ],
   "source": [
    "#b \n",
    "e2=integrate(log(x),x)\n",
    "print(\"The value of integration is : \", e2)"
   ]
  },
  {
   "cell_type": "code",
   "execution_count": 14,
   "id": "836b37fc-b23c-4aa5-95e7-d7479b76b894",
   "metadata": {},
   "outputs": [
    {
     "name": "stdout",
     "output_type": "stream",
     "text": [
      "The value of integration is :  x**2/2\n"
     ]
    }
   ],
   "source": [
    "#c \n",
    "e3=integrate((x**3+x)/(x**2+1),x)\n",
    "print(\"The value of integration is : \", e3)"
   ]
  },
  {
   "cell_type": "code",
   "execution_count": 15,
   "id": "1c5f6227-9fed-47b9-ac25-26eda2a65085",
   "metadata": {},
   "outputs": [
    {
     "name": "stdout",
     "output_type": "stream",
     "text": [
      "The value of integration is :  -sinh(pi) + pi*cosh(pi)\n"
     ]
    }
   ],
   "source": [
    "#d \n",
    "e4=integrate(x*sinh(x),(x,0,pi))\n",
    "print(\"The value of integration is : \", e4)"
   ]
  },
  {
   "cell_type": "markdown",
   "id": "e7181922-0fab-44c2-85c2-5184625f4bba",
   "metadata": {},
   "source": [
    "## Question 4:"
   ]
  },
  {
   "cell_type": "code",
   "execution_count": 16,
   "id": "084985fb-abd6-44df-8571-a4469dcddedd",
   "metadata": {},
   "outputs": [
    {
     "name": "stdout",
     "output_type": "stream",
     "text": [
      "x**6 + 6*x**5*y + 15*x**4*y**2 + 20*x**3*y**3 + 15*x**2*y**4 + 6*x*y**5 + y**6\n"
     ]
    }
   ],
   "source": [
    "# 1:\n",
    "a=expand((x+y)**6)\n",
    "print(a)"
   ]
  },
  {
   "cell_type": "code",
   "execution_count": 17,
   "id": "26f53a9d-3b6a-4c05-a660-4acc5b3d6a49",
   "metadata": {},
   "outputs": [
    {
     "name": "stdout",
     "output_type": "stream",
     "text": [
      "tan(x)\n"
     ]
    }
   ],
   "source": [
    "# 2:\n",
    "b=simplify(sin(x)/cos(x))\n",
    "print(b)"
   ]
  },
  {
   "cell_type": "code",
   "execution_count": 18,
   "id": "7a5d94c0-ffe4-44cd-af37-d740d6f05ccf",
   "metadata": {},
   "outputs": [
    {
     "name": "stdout",
     "output_type": "stream",
     "text": [
      "1 - x**2/2 + x**4/24 + O(x**5)\n"
     ]
    }
   ],
   "source": [
    "# 3:\n",
    "f=cos(x)\n",
    "c=f.series(x,0,5)\n",
    "print(c)"
   ]
  },
  {
   "cell_type": "code",
   "execution_count": 19,
   "id": "8098c388-454e-401c-acbf-affbd968fb33",
   "metadata": {},
   "outputs": [
    {
     "name": "stdout",
     "output_type": "stream",
     "text": [
      "1\n"
     ]
    }
   ],
   "source": [
    "# 4:\n",
    "d=limit((sin(x)/x),x,0)\n",
    "print(d)"
   ]
  },
  {
   "cell_type": "code",
   "execution_count": 20,
   "id": "35c288d7-e4de-4043-a45e-9756b2a2f3e7",
   "metadata": {},
   "outputs": [
    {
     "name": "stdout",
     "output_type": "stream",
     "text": [
      "0\n"
     ]
    }
   ],
   "source": [
    "# 5:\n",
    "e=limit((cos(x)/x),x,oo)\n",
    "print(e)"
   ]
  },
  {
   "cell_type": "markdown",
   "id": "1293cb0c-00b5-4fb7-839d-7cc14db265c3",
   "metadata": {},
   "source": [
    "## Good Luck"
   ]
  },
  {
   "cell_type": "code",
   "execution_count": null,
   "id": "4971cc11-d903-4d8d-8685-ae4c1e43ce45",
   "metadata": {},
   "outputs": [],
   "source": []
  }
 ],
 "metadata": {
  "kernelspec": {
   "display_name": "Python 3 (ipykernel)",
   "language": "python",
   "name": "python3"
  },
  "language_info": {
   "codemirror_mode": {
    "name": "ipython",
    "version": 3
   },
   "file_extension": ".py",
   "mimetype": "text/x-python",
   "name": "python",
   "nbconvert_exporter": "python",
   "pygments_lexer": "ipython3",
   "version": "3.8.13"
  }
 },
 "nbformat": 4,
 "nbformat_minor": 5
}
